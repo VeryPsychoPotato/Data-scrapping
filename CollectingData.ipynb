{
 "cells": [
  {
   "cell_type": "code",
   "execution_count": 1,
   "metadata": {},
   "outputs": [],
   "source": [
    "from selenium import webdriver \n",
    "from datetime import datetime\n",
    "import pandas as pd \n",
    "import requests\n",
    "from bs4 import BeautifulSoup\n",
    "from selenium.webdriver.common.by import By \n",
    "from selenium.webdriver.support.ui import WebDriverWait \n",
    "from selenium.webdriver.support import expected_conditions as EC"
   ]
  },
  {
   "cell_type": "code",
   "execution_count": null,
   "metadata": {},
   "outputs": [],
   "source": [
    "chromedriver = \"C:/Users/Kernius/Desktop/BoredPanda/chromedriver\"\n",
    "driver = webdriver.Chrome(chromedriver) \n",
    "driver.get(\"https://www.youtube.com/c/Pralau%C5%BEkVien%C4%85%C5%A0alt%C4%85/videos\")"
   ]
  },
  {
   "cell_type": "code",
   "execution_count": null,
   "metadata": {},
   "outputs": [],
   "source": [
    "user_data = driver.find_elements_by_xpath('//*[@id=\"video-title\"]')\n",
    "links = []\n",
    "for i in user_data:\n",
    "            links.append(i.get_attribute('href'))"
   ]
  },
  {
   "cell_type": "code",
   "execution_count": null,
   "metadata": {},
   "outputs": [],
   "source": [
    "wait = WebDriverWait(driver, 10)\n",
    "for x in links:\n",
    "            driver.get(x)\n",
    "            id = x.strip('https://www.youtube.com/watch?v=')\n",
    "            \n",
    "            title = wait.until(EC.presence_of_element_located(\n",
    "                           (By.CSS_SELECTOR,\"h1.title yt-formatted-string\"))).text\n",
    "            \n",
    "            views =  wait.until(EC.presence_of_element_located(\n",
    "                                         (By.CSS_SELECTOR,\"div#count yt-view-count-renderer\"))).text\n",
    "            keywords = 0\n",
    "            date = wait.until(EC.presence_of_element_located(\n",
    "                                         (By.CSS_SELECTOR,\"div#date yt-formatted-string\"))).text\n",
    "            data.loc[len(data)] = [id, title, views ,keywords, date]\n",
    "driver.close()"
   ]
  },
  {
   "cell_type": "code",
   "execution_count": null,
   "metadata": {},
   "outputs": [],
   "source": [
    "data.to_excel(\"Table_C.xlsx\")"
   ]
  }
 ],
 "metadata": {
  "kernelspec": {
   "display_name": "Python 3",
   "language": "python",
   "name": "python3"
  },
  "language_info": {
   "codemirror_mode": {
    "name": "ipython",
    "version": 3
   },
   "file_extension": ".py",
   "mimetype": "text/x-python",
   "name": "python",
   "nbconvert_exporter": "python",
   "pygments_lexer": "ipython3",
   "version": "3.7.4"
  }
 },
 "nbformat": 4,
 "nbformat_minor": 2
}
